{
 "cells": [
  {
   "cell_type": "code",
   "execution_count": null,
   "metadata": {
    "collapsed": true
   },
   "outputs": [],
   "source": [
    "from GHCND import *\n",
    "\n",
    "# initStationsMetadata,initInventoryMetadata,initDlyFileDirectory\n",
    "sp = StationPreprocessor(\"D:/GHCND_data/ghcnd-stations.txt\",\n",
    "                         \"D:/GHCND_data/ghcnd-inventory.txt\",\n",
    "                         \"D:/GHCND_data/ghcnd_all.tar/ghcnd_all/ghcnd_all\")\n",
    "sp.addCountries([\"united states\",\"canada\"])\n",
    "sp.addStates([\"minnesota\"])\n",
    "sp.addStations()\n",
    "sp.processDlyFiles([\"TMAX\",\"TMIN\",\"PRCP\"])"
   ]
  }
 ],
 "metadata": {
  "kernelspec": {
   "display_name": "Python 2",
   "language": "python",
   "name": "python2"
  },
  "language_info": {
   "codemirror_mode": {
    "name": "ipython",
    "version": 2
   },
   "file_extension": ".py",
   "mimetype": "text/x-python",
   "name": "python",
   "nbconvert_exporter": "python",
   "pygments_lexer": "ipython2",
   "version": "2.7.14"
  }
 },
 "nbformat": 4,
 "nbformat_minor": 2
}
