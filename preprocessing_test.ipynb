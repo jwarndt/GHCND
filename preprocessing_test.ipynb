{
 "cells": [
  {
   "cell_type": "code",
   "execution_count": null,
   "metadata": {},
   "outputs": [],
   "source": [
    "from GHCND import *\n",
    "\n",
    "# initStationsMetadata,initInventoryMetadata,initDlyFileDirectory\n",
    "sp = preprocessor.StationPreprocessor(\"D:/GHCND_data/ghcnd-stations.txt\",\n",
    "                         \"D:/GHCND_data/ghcnd-inventory.txt\",\n",
    "                         \"D:/GHCND_data/ghcnd_all.tar/ghcnd_all/ghcnd_all\")\n",
    "sp.addCountries([\"united states\",\"canada\"])\n",
    "sp.addStates([\"wisconsin\"])\n",
    "sp.addStations()\n",
    "sp.exportToShapefile(\"D:/GHCND_data/minnesota.shp\")\n",
    "sp.processDlyFiles([\"TMAX\"])"
   ]
  },
  {
   "cell_type": "code",
   "execution_count": null,
   "metadata": {},
   "outputs": [],
   "source": [
    "#stats.calculateMean(sp,\"month\")"
   ]
  }
 ],
 "metadata": {
  "kernelspec": {
   "display_name": "Python 2",
   "language": "python",
   "name": "python2"
  },
  "language_info": {
   "codemirror_mode": {
    "name": "ipython",
    "version": 2
   },
   "file_extension": ".py",
   "mimetype": "text/x-python",
   "name": "python",
   "nbconvert_exporter": "python",
   "pygments_lexer": "ipython2",
   "version": "2.7.14"
  }
 },
 "nbformat": 4,
 "nbformat_minor": 2
}
