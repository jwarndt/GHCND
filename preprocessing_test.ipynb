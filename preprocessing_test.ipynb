{
 "cells": [
  {
   "cell_type": "code",
   "execution_count": 1,
   "metadata": {},
   "outputs": [
    {
     "name": "stdout",
     "output_type": "stream",
     "text": [
      "reading 4866 stations\n",
      "done with 200 stations. 4% complete.\n",
      "done with 400 stations. 8% complete.\n",
      "done with 600 stations. 12% complete.\n",
      "done with 800 stations. 16% complete.\n",
      "done with 1000 stations. 20% complete.\n",
      "done with 1200 stations. 24% complete.\n",
      "done with 1400 stations. 28% complete.\n",
      "done with 1600 stations. 32% complete.\n",
      "done with 1800 stations. 36% complete.\n",
      "done with 2000 stations. 41% complete.\n",
      "done with 2200 stations. 45% complete.\n",
      "done with 2400 stations. 49% complete.\n",
      "done with 2600 stations. 53% complete.\n",
      "done with 2800 stations. 57% complete.\n",
      "done with 3000 stations. 61% complete.\n",
      "done with 3200 stations. 65% complete.\n",
      "done with 3400 stations. 69% complete.\n",
      "done with 3600 stations. 73% complete.\n",
      "done with 3800 stations. 78% complete.\n",
      "done with 4000 stations. 82% complete.\n",
      "done with 4200 stations. 86% complete.\n",
      "done with 4400 stations. 90% complete.\n",
      "done with 4600 stations. 94% complete.\n",
      "done with 4800 stations. 98% complete.\n",
      "done reading stations. 1679 stations left after filtering\n"
     ]
    }
   ],
   "source": [
    "import matplotlib.pyplot as plt\n",
    "import numpy as np\n",
    "from GHCND import *\n",
    "\n",
    "\n",
    "# initStationsMetadata,initInventoryMetadata,initDlyFileDirectory\n",
    "sp = preprocessor.StationPreprocessor(\"D:/GHCND_data/ghcnd-stations.txt\",\n",
    "                         \"D:/GHCND_data/ghcnd-inventory.txt\",\n",
    "                         \"D:/GHCND_data/ghcnd_all.tar/ghcnd_all/ghcnd_all\")\n",
    "# \"united states\", \"canada\"\n",
    "sp.addCountries([\"canada\"])\n",
    "# \"minnesota\",\"wisconsin\",\"iowa\",\"north dakota\",\"south dakota\",\"michigan\",\"nebraska\",\"illinois\", \"ontario\", \"manitoba\", \"saskatchewan\"\n",
    "sp.addStates([\"ontario\", \"manitoba\", \"saskatchewan\"])\n",
    "sp.addStations()\n",
    "sp.processDlyFiles([\"TMAX\",\"TMIN\",\"PRCP\",\"TAVG\"])\n",
    "stats.calculateMean(sp,\"month\")\n",
    "conversion.TenthsCelsiusToCelsius(sp)"
   ]
  },
  {
   "cell_type": "code",
   "execution_count": 3,
   "metadata": {
    "collapsed": true
   },
   "outputs": [],
   "source": [
    "sp.writeToDat(\"./dat_files\")"
   ]
  },
  {
   "cell_type": "code",
   "execution_count": 2,
   "metadata": {
    "collapsed": true
   },
   "outputs": [],
   "source": [
    "sp.exportToShapefile(\"D:/GHCND_data/canada_mid.shp\")"
   ]
  },
  {
   "cell_type": "code",
   "execution_count": null,
   "metadata": {
    "collapsed": true
   },
   "outputs": [],
   "source": [
    "y = sp.stations[0].variables[\"TMAX\"].data\n",
    "x = sp.stations[0].variables[\"TMAX\"].timelist\n",
    "plt.figure(figsize=(20,10))\n",
    "plt.plot(x,y)\n",
    "plt.show()"
   ]
  },
  {
   "cell_type": "code",
   "execution_count": null,
   "metadata": {
    "collapsed": true
   },
   "outputs": [],
   "source": [
    "np.array([1,2,3,4,5]) / 10."
   ]
  },
  {
   "cell_type": "code",
   "execution_count": null,
   "metadata": {
    "collapsed": true
   },
   "outputs": [],
   "source": []
  }
 ],
 "metadata": {
  "kernelspec": {
   "display_name": "Python 2",
   "language": "python",
   "name": "python2"
  },
  "language_info": {
   "codemirror_mode": {
    "name": "ipython",
    "version": 2
   },
   "file_extension": ".py",
   "mimetype": "text/x-python",
   "name": "python",
   "nbconvert_exporter": "python",
   "pygments_lexer": "ipython2",
   "version": "2.7.14"
  }
 },
 "nbformat": 4,
 "nbformat_minor": 2
}
