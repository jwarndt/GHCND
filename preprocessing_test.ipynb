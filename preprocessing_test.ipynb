{
 "cells": [
  {
   "cell_type": "code",
   "execution_count": 1,
   "metadata": {},
   "outputs": [
    {
     "name": "stdout",
     "output_type": "stream",
     "text": [
      "reading 803 stations\n",
      "done with 200 stations. 24% complete.\n",
      "done with 400 stations. 49% complete.\n",
      "done with 600 stations. 74% complete.\n",
      "done with 800 stations. 99% complete.\n",
      "done reading stations. 412 stations left after filtering\n",
      "total data read time: 85.4650001526\n"
     ]
    }
   ],
   "source": [
    "from GHCND import *\n",
    "\n",
    "\n",
    "# initStationsMetadata,initInventoryMetadata,initDlyFileDirectory\n",
    "sp = preprocessor.StationPreprocessor(\"D:/GHCND_data/ghcnd-stations.txt\",\n",
    "                         \"D:/GHCND_data/ghcnd-inventory.txt\",\n",
    "                         \"D:/GHCND_data/ghcnd_all.tar/ghcnd_all/ghcnd_all\")\n",
    "# \"united states\", \"canada\"\n",
    "sp.addCountries([\"united states\"])\n",
    "# \"minnesota\",\"wisconsin\",\"iowa\",\"north dakota\",\"south dakota\",\"michigan\",\"nebraska\",\"illinois\", \"ontario\", \"manitoba\", \"saskatchewan\"\n",
    "sp.addStates([\"wisconsin\"])\n",
    "sp.addStations()\n",
    "sp.processDlyFiles([\"TMAX\",\"TMIN\",\"PRCP\",\"TAVG\"])\n",
    "stats.calculateMean(sp,\"month\")\n",
    "#conversion.TenthsCelsiusToCelsius(sp)\n",
    "#sp.exportToJSON(\"C:/Users/Jacob/Projects/GHCND/website/app/data/ghcnd_ontario_data.json\")"
   ]
  },
  {
   "cell_type": "code",
   "execution_count": null,
   "metadata": {
    "collapsed": true
   },
   "outputs": [],
   "source": [
    "plotter.plotStationSeries(sp.stations[0],\"PRCP\")"
   ]
  },
  {
   "cell_type": "code",
   "execution_count": null,
   "metadata": {
    "collapsed": true
   },
   "outputs": [],
   "source": [
    "plotter.plotOutFile(\"D:/Shared_VM_Folder/bk149prcp\")"
   ]
  },
  {
   "cell_type": "code",
   "execution_count": null,
   "metadata": {
    "collapsed": true
   },
   "outputs": [],
   "source": [
    "sp.stations[0].variables[\"TMAX\"].timelist[-1]"
   ]
  },
  {
   "cell_type": "code",
   "execution_count": null,
   "metadata": {
    "collapsed": true
   },
   "outputs": [],
   "source": [
    "sp.writeToDat(\"./dat_files\")"
   ]
  },
  {
   "cell_type": "code",
   "execution_count": null,
   "metadata": {
    "collapsed": true
   },
   "outputs": [],
   "source": [
    "sp.exportToShapefile(\"D:/GHCND_data/canada_mid.shp\")"
   ]
  }
 ],
 "metadata": {
  "kernelspec": {
   "display_name": "Python 2",
   "language": "python",
   "name": "python2"
  },
  "language_info": {
   "codemirror_mode": {
    "name": "ipython",
    "version": 2
   },
   "file_extension": ".py",
   "mimetype": "text/x-python",
   "name": "python",
   "nbconvert_exporter": "python",
   "pygments_lexer": "ipython2",
   "version": "2.7.14"
  }
 },
 "nbformat": 4,
 "nbformat_minor": 2
}
