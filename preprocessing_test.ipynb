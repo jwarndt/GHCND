{
 "cells": [
  {
   "cell_type": "code",
   "execution_count": null,
   "metadata": {},
   "outputs": [],
   "source": [
    "import matplotlib.pyplot as plt\n",
    "\n",
    "from GHCND import *\n",
    "\n",
    "\n",
    "# initStationsMetadata,initInventoryMetadata,initDlyFileDirectory\n",
    "sp = preprocessor.StationPreprocessor(\"E:/practicum/ghcnd/ghcnd-stations.txt\",\n",
    "                         \"E:/practicum/ghcnd/ghcnd-inventory.txt\",\n",
    "                         \"E:/practicum/ghcnd/ghcnd_all.tar/ghcnd_all/ghcnd_all\")\n",
    "sp.addCountries([\"united states\"])\n",
    "sp.addStates([\"minnesota\"])\n",
    "sp.addStations()\n",
    "#sp.exportToShapefile(\"D:/GHCND_data/minnesota.shp\")\n",
    "sp.processDlyFiles([\"TMAX\",\"TMIN\",\"PRCP\",\"TAVG\"])"
   ]
  },
  {
   "cell_type": "code",
   "execution_count": null,
   "metadata": {},
   "outputs": [],
   "source": [
    "stats.calculateMean(sp,\"month\")"
   ]
  }
 ],
 "metadata": {
  "kernelspec": {
   "display_name": "Python 2",
   "language": "python",
   "name": "python2"
  },
  "language_info": {
   "codemirror_mode": {
    "name": "ipython",
    "version": 2
   },
   "file_extension": ".py",
   "mimetype": "text/x-python",
   "name": "python",
   "nbconvert_exporter": "python",
   "pygments_lexer": "ipython2",
   "version": "2.7.13"
  }
 },
 "nbformat": 4,
 "nbformat_minor": 2
}
